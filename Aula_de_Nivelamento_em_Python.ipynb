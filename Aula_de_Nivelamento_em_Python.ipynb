{
  "nbformat": 4,
  "nbformat_minor": 0,
  "metadata": {
    "colab": {
      "provenance": [],
      "authorship_tag": "ABX9TyOsyFssLP1LY9h9R0sRdSce",
      "include_colab_link": true
    },
    "kernelspec": {
      "name": "python3",
      "display_name": "Python 3"
    },
    "language_info": {
      "name": "python"
    }
  },
  "cells": [
    {
      "cell_type": "markdown",
      "metadata": {
        "id": "view-in-github",
        "colab_type": "text"
      },
      "source": [
        "<a href=\"https://colab.research.google.com/github/lucasv-1/lucasv-1/blob/main/Aula_de_Nivelamento_em_Python.ipynb\" target=\"_parent\"><img src=\"https://colab.research.google.com/assets/colab-badge.svg\" alt=\"Open In Colab\"/></a>"
      ]
    },
    {
      "cell_type": "markdown",
      "source": [
        "## **Lista de Exercícios em Python**"
      ],
      "metadata": {
        "id": "_aj7XaPxPQhq"
      }
    },
    {
      "cell_type": "markdown",
      "source": [
        "### **1. Manipulação de Variáveis e Tipos de Dados**  \n",
        "1. **Declaração de Variáveis:** Crie um programa que declare três variáveis (inteiro, decimal e string) e exiba seus valores na tela.  \n",
        "2. **Conversão de Tipos:** Escreva um programa que peça ao usuário um número decimal e exiba a parte inteira dele.  \n",
        "3. **Operações Matemáticas:** Solicite dois números inteiros e exiba a soma, subtração, multiplicação e divisão entre eles.  \n",
        "4. **Concatenação de Strings:** Peça ao usuário seu primeiro e último nome e exiba uma saudação personalizada.  \n",
        "5. **Cálculo de Área:** Solicite ao usuário o raio de um círculo e calcule sua área (use `π = 3.14`).  \n",
        "\n",
        "### **2. Condicionais**  \n",
        "6. **Par ou Ímpar:** Peça ao usuário um número inteiro e informe se ele é par ou ímpar.  \n",
        "7. **Maior de Dois Números:** Solicite dois números e exiba qual deles é o maior.  \n",
        "8. **Aprovação de Aluno:** Solicite a nota de um aluno e informe se ele foi aprovado (nota maior ou igual a 6).  \n",
        "9. **Cálculo de Desconto:** Peça o valor de um produto e um percentual de desconto e exiba o preço final.  \n",
        "10. **Ano Bissexto:** Peça ao usuário um ano e informe se ele é bissexto ou não.  \n",
        "\n",
        "### **3. Estruturas de Repetição**  \n",
        "11. **Contagem Progressiva:** Exiba os números de 1 a 10 usando um loop.  \n",
        "12. **Contagem Regressiva:** Exiba os números de 10 a 1 usando um loop.  \n",
        "13. **Tabuada:** Peça um número ao usuário e exiba sua tabuada de 1 a 10.  \n",
        "14. **Soma dos Números:** Peça um número inteiro positivo e calcule a soma de todos os números de 1 até ele.  \n",
        "15. **Fatorial:** Solicite um número inteiro e exiba o seu fatorial.  \n",
        "\n",
        "### **4. Exercícios Mistos**  \n",
        "16. **Adivinhação de Número:** Gere um número aleatório entre 1 e 100 e peça ao usuário para adivinhar, informando se o palpite é maior ou menor até acertar.  \n",
        "17. **Sequência de Fibonacci:** Exiba os primeiros 10 números da sequência de Fibonacci.  \n",
        "18. **Média de Notas:** Peça ao usuário para inserir 5 notas e calcule a média.  \n",
        "19. **Número Primo:** Peça um número inteiro e verifique se ele é primo.  \n",
        "20. **Caixa Eletrônico:** Simule um sistema de saque onde o usuário informa um valor e o programa calcula quantas cédulas de R$50, R$20, R$10 e R$5 são necessárias.  \n",
        "\n",
        "Essa lista abrange conceitos fundamentais de programação para iniciantes e pode ser aplicada em qualquer linguagem, como Python, Java ou C. Quer que eu crie exemplos de código para algum dos exercícios?"
      ],
      "metadata": {
        "id": "Uzg4F33TPXZr"
      }
    },
    {
      "cell_type": "markdown",
      "source": [],
      "metadata": {
        "id": "A4mnI24FPrd6"
      }
    },
    {
      "cell_type": "markdown",
      "source": [
        "### **1. Manipulação de Variáveis e Tipos de Dados**  "
      ],
      "metadata": {
        "id": "I27ZfSy1RNJc"
      }
    },
    {
      "cell_type": "markdown",
      "source": [
        "1. **Declaração de Variáveis:** Crie um programa que declare três variáveis (inteiro, decimal e string) e exiba seus valores na tela."
      ],
      "metadata": {
        "id": "C5hx8jJaPn2S"
      }
    },
    {
      "cell_type": "code",
      "source": [
        "inteiro = 10\n",
        "decimal = 3.14\n",
        "texto = \"Olá, mundo!\"\n",
        "print(f\"Valor inteiro: {inteiro}, Decimal: {decimal}, Texto: {texto}\")"
      ],
      "metadata": {
        "id": "gicS0ajmPpOb"
      },
      "execution_count": null,
      "outputs": []
    },
    {
      "cell_type": "markdown",
      "source": [
        "2. **Conversão de Tipos:** Escreva um programa que peça ao usuário um número decimal e exiba a parte inteira dele.  \n"
      ],
      "metadata": {
        "id": "z2DvB0WtP0Gk"
      }
    },
    {
      "cell_type": "code",
      "source": [
        "numero = float(input(\"Digite um número decimal: \"))\n",
        "print(f\"A parte inteira do número é: {int(numero)}\")"
      ],
      "metadata": {
        "colab": {
          "base_uri": "https://localhost:8080/"
        },
        "id": "gl0-qxHjQHOr",
        "outputId": "219d4bce-0975-4000-e57e-85752a62ca37"
      },
      "execution_count": 2,
      "outputs": [
        {
          "output_type": "stream",
          "name": "stdout",
          "text": [
            "Digite um número decimal: 10\n",
            "A parte inteira do número é: 10\n"
          ]
        }
      ]
    },
    {
      "cell_type": "markdown",
      "source": [
        "3. **Operações Matemáticas:** Solicite dois números inteiros e exiba a soma, subtração, multiplicação e divisão entre eles.  \n"
      ],
      "metadata": {
        "id": "76qT-DEUP0ti"
      }
    },
    {
      "cell_type": "code",
      "source": [
        "a = int(input(\"Digite o primeiro número: \"))\n",
        "b = int(input(\"Digite o segundo número: \"))\n",
        "print(f\"Soma: {a + b}, Subtração: {a - b}, Multiplicação: {a * b}, Divisão: {a / b}\")"
      ],
      "metadata": {
        "id": "Es-6S5SNQJE6"
      },
      "execution_count": null,
      "outputs": []
    },
    {
      "cell_type": "markdown",
      "source": [
        "4. **Concatenação de Strings:** Peça ao usuário seu primeiro e último nome e exiba uma saudação personalizada.  "
      ],
      "metadata": {
        "id": "FWBNRaxwP4ba"
      }
    },
    {
      "cell_type": "code",
      "source": [
        "nome = input(\"Digite seu primeiro nome: \")\n",
        "sobrenome = input(\"Digite seu sobrenome: \")\n",
        "print(f\"Olá, {nome} {sobrenome}! Bem-vindo!\")"
      ],
      "metadata": {
        "colab": {
          "base_uri": "https://localhost:8080/"
        },
        "id": "GYPn25wKQRTj",
        "outputId": "f088c55e-979c-4a37-e38d-1ff2d975cddf"
      },
      "execution_count": 4,
      "outputs": [
        {
          "output_type": "stream",
          "name": "stdout",
          "text": [
            "Digite seu primeiro nome: luve\n",
            "Digite seu sobrenome: teste\n",
            "Olá, luve teste! Bem-vindo!\n"
          ]
        }
      ]
    },
    {
      "cell_type": "markdown",
      "source": [
        "5. **Cálculo de Área:** Solicite ao usuário o raio de um círculo e calcule sua área (use `π = 3.14`).  "
      ],
      "metadata": {
        "id": "wMIeX36MP_Iq"
      }
    },
    {
      "cell_type": "code",
      "source": [
        "raio = float(input(\"Digite o raio do círculo: \"))\n",
        "area = 3.14 * (raio ** 2)\n",
        "print(f\"A área do círculo é: {area}\")"
      ],
      "metadata": {
        "colab": {
          "base_uri": "https://localhost:8080/"
        },
        "id": "yTDkzWlnQL6r",
        "outputId": "04f62c39-24c8-466e-f48a-179e01eddb95"
      },
      "execution_count": 5,
      "outputs": [
        {
          "output_type": "stream",
          "name": "stdout",
          "text": [
            "Digite o raio do círculo: 3\n",
            "A área do círculo é: 28.26\n"
          ]
        }
      ]
    },
    {
      "cell_type": "markdown",
      "source": [
        "### **2. Condicionais**  "
      ],
      "metadata": {
        "id": "CwXrh_itQZZL"
      }
    },
    {
      "cell_type": "markdown",
      "source": [
        "6. **Par ou Ímpar:** Peça ao usuário um número inteiro e informe se ele é par ou ímpar.  "
      ],
      "metadata": {
        "id": "VJ2YBW0DQaX1"
      }
    },
    {
      "cell_type": "code",
      "source": [
        "num = int(input(\"Digite um número inteiro: \"))\n",
        "if num % 2 == 0:\n",
        "    print(\"O número é par.\")\n",
        "else:\n",
        "    print(\"O número é ímpar.\")"
      ],
      "metadata": {
        "colab": {
          "base_uri": "https://localhost:8080/"
        },
        "id": "702kOiLkQxAo",
        "outputId": "0e6b9737-f388-4f4c-8c8a-400a2bb6a0ea"
      },
      "execution_count": 6,
      "outputs": [
        {
          "output_type": "stream",
          "name": "stdout",
          "text": [
            "Digite um número inteiro: 1\n",
            "O número é ímpar.\n"
          ]
        }
      ]
    },
    {
      "cell_type": "markdown",
      "source": [
        "7. **Maior de Dois Números:** Solicite dois números e exiba qual deles é o maior.  "
      ],
      "metadata": {
        "id": "QWXJM-iFQdyF"
      }
    },
    {
      "cell_type": "code",
      "source": [
        "a = int(input(\"Digite o primeiro número: \"))\n",
        "b = int(input(\"Digite o segundo número: \"))\n",
        "if a > b:\n",
        "    print(f\"O maior número é: {a}\")\n",
        "elif b > a:\n",
        "    print(f\"O maior número é: {b}\")\n",
        "else:\n",
        "    print(\"Os números são iguais.\")"
      ],
      "metadata": {
        "id": "2vAgAO_AQzm9"
      },
      "execution_count": null,
      "outputs": []
    },
    {
      "cell_type": "markdown",
      "source": [
        "8. **Aprovação de Aluno:** Solicite a nota de um aluno e informe se ele foi aprovado (nota maior ou igual a 6)."
      ],
      "metadata": {
        "id": "XtUvYRZzQerj"
      }
    },
    {
      "cell_type": "code",
      "source": [
        "nota = float(input(\"Digite a nota do aluno: \"))\n",
        "if nota >= 6:\n",
        "    print(\"Aluno aprovado!\")\n",
        "else:\n",
        "    print(\"Aluno reprovado!\")"
      ],
      "metadata": {
        "id": "cbu0uuhKQ871"
      },
      "execution_count": null,
      "outputs": []
    },
    {
      "cell_type": "markdown",
      "source": [
        "9. **Cálculo de Desconto:** Peça o valor de um produto e um percentual de desconto e exiba o preço final.  "
      ],
      "metadata": {
        "id": "cOCFoHO7QeML"
      }
    },
    {
      "cell_type": "code",
      "source": [
        "preco = float(input(\"Digite o preço do produto: \"))\n",
        "desconto = float(input(\"Digite o percentual de desconto: \"))\n",
        "preco_final = preco - (preco * (desconto / 100))\n",
        "print(f\"Preço final com desconto: R${preco_final:.2f}\")"
      ],
      "metadata": {
        "id": "Xh2UOk5gQ-OF"
      },
      "execution_count": null,
      "outputs": []
    },
    {
      "cell_type": "markdown",
      "source": [
        "10. **Ano Bissexto:** Peça ao usuário um ano e informe se ele é bissexto ou não."
      ],
      "metadata": {
        "id": "XsRPy5wBRHFX"
      }
    },
    {
      "cell_type": "code",
      "source": [],
      "metadata": {
        "id": "ADQ-OiClRENA"
      },
      "execution_count": null,
      "outputs": []
    },
    {
      "cell_type": "markdown",
      "source": [
        "### **3. Estruturas de Repetição**  "
      ],
      "metadata": {
        "id": "JEtBrkmxRYXJ"
      }
    },
    {
      "cell_type": "markdown",
      "source": [
        "11. **Contagem Progressiva:** Exiba os números de 1 a 10 usando um loop.  "
      ],
      "metadata": {
        "id": "H7i9SpwVRZzc"
      }
    },
    {
      "cell_type": "code",
      "source": [],
      "metadata": {
        "id": "2wrovCP2RslN"
      },
      "execution_count": null,
      "outputs": []
    },
    {
      "cell_type": "markdown",
      "source": [
        "12. **Contagem Regressiva:** Exiba os números de 10 a 1 usando um loop.  "
      ],
      "metadata": {
        "id": "GrwBb261RaJd"
      }
    },
    {
      "cell_type": "code",
      "source": [],
      "metadata": {
        "id": "S_J1n-SLRs3n"
      },
      "execution_count": null,
      "outputs": []
    },
    {
      "cell_type": "markdown",
      "source": [
        "13. **Tabuada:** Peça um número ao usuário e exiba sua tabuada de 1 a 10.  "
      ],
      "metadata": {
        "id": "oYVhvxfIRawD"
      }
    },
    {
      "cell_type": "code",
      "source": [],
      "metadata": {
        "id": "kkHRT1zlRtVs"
      },
      "execution_count": null,
      "outputs": []
    },
    {
      "cell_type": "markdown",
      "source": [
        "14. **Soma dos Números:** Peça um número inteiro positivo e calcule a soma de todos os números de 1 até ele.  "
      ],
      "metadata": {
        "id": "At_LZ1WZRbFl"
      }
    },
    {
      "cell_type": "code",
      "source": [],
      "metadata": {
        "id": "OD91jKgfRtnh"
      },
      "execution_count": null,
      "outputs": []
    },
    {
      "cell_type": "markdown",
      "source": [
        "15. **Fatorial:** Solicite um número inteiro e exiba o seu fatorial.  "
      ],
      "metadata": {
        "id": "vinRZqqSRbgM"
      }
    },
    {
      "cell_type": "code",
      "source": [],
      "metadata": {
        "id": "Y_wDiLc4RuSU"
      },
      "execution_count": null,
      "outputs": []
    },
    {
      "cell_type": "markdown",
      "source": [
        "### **4. Exercícios Mistos**  "
      ],
      "metadata": {
        "id": "Gf50B3QNSAP-"
      }
    },
    {
      "cell_type": "markdown",
      "source": [
        "16. **Adivinhação de Número:** Gere um número aleatório entre 1 e 100 e peça ao usuário para adivinhar, informando se o palpite é maior ou menor até acertar.  "
      ],
      "metadata": {
        "id": "LsDD06LFSEiM"
      }
    },
    {
      "cell_type": "code",
      "source": [],
      "metadata": {
        "id": "BNw_vV1mSbkq"
      },
      "execution_count": null,
      "outputs": []
    },
    {
      "cell_type": "markdown",
      "source": [
        "17. **Sequência de Fibonacci:** Exiba os primeiros 10 números da sequência de Fibonacci."
      ],
      "metadata": {
        "id": "KE3RCArqSEWT"
      }
    },
    {
      "cell_type": "code",
      "source": [],
      "metadata": {
        "id": "ikTFernMSep1"
      },
      "execution_count": null,
      "outputs": []
    },
    {
      "cell_type": "markdown",
      "source": [
        "18. **Média de Notas:** Peça ao usuário para inserir 5 notas e calcule a média."
      ],
      "metadata": {
        "id": "GJaA8q75SEPL"
      }
    },
    {
      "cell_type": "code",
      "source": [],
      "metadata": {
        "id": "v9R2KLOWSh9Q"
      },
      "execution_count": null,
      "outputs": []
    },
    {
      "cell_type": "markdown",
      "source": [
        "19. **Número Primo:** Peça um número inteiro e verifique se ele é primo.  "
      ],
      "metadata": {
        "id": "XpGV3q6dSEKH"
      }
    },
    {
      "cell_type": "code",
      "source": [],
      "metadata": {
        "id": "2T_8j7uZSlZ3"
      },
      "execution_count": null,
      "outputs": []
    },
    {
      "cell_type": "markdown",
      "source": [
        "20. **Caixa Eletrônico:** Simule um sistema de saque onde o usuário informa um valor e o programa calcula quantas cédulas de R$50,00, R$20,00, R$10,00 e R$05,00 são necessárias.  "
      ],
      "metadata": {
        "id": "Bl9offXBSDuN"
      }
    },
    {
      "cell_type": "code",
      "source": [],
      "metadata": {
        "id": "XvuPm50ISntG"
      },
      "execution_count": null,
      "outputs": []
    }
  ]
}